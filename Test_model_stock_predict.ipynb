{
  "nbformat": 4,
  "nbformat_minor": 0,
  "metadata": {
    "colab": {
      "name": "Test model stock predict.ipynb",
      "provenance": [],
      "collapsed_sections": [],
      "authorship_tag": "ABX9TyNOGqOA0P2wSsjfX1uROJsL",
      "include_colab_link": true
    },
    "kernelspec": {
      "name": "python3",
      "display_name": "Python 3"
    },
    "language_info": {
      "name": "python"
    },
    "accelerator": "GPU"
  },
  "cells": [
    {
      "cell_type": "markdown",
      "metadata": {
        "id": "view-in-github",
        "colab_type": "text"
      },
      "source": [
        "<a href=\"https://colab.research.google.com/github/sira4154/AI4BA/blob/main/Test_model_stock_predict.ipynb\" target=\"_parent\"><img src=\"https://colab.research.google.com/assets/colab-badge.svg\" alt=\"Open In Colab\"/></a>"
      ]
    },
    {
      "cell_type": "code",
      "source": [
        "!pip install yfinance"
      ],
      "metadata": {
        "colab": {
          "base_uri": "https://localhost:8080/",
          "height": 0
        },
        "id": "XhKJcAy4ev27",
        "outputId": "1e94326c-7ffc-4b0c-fae0-32a4b05c7c33"
      },
      "execution_count": 137,
      "outputs": [
        {
          "output_type": "stream",
          "name": "stdout",
          "text": [
            "Requirement already satisfied: yfinance in /usr/local/lib/python3.7/dist-packages (0.1.70)\n",
            "Requirement already satisfied: multitasking>=0.0.7 in /usr/local/lib/python3.7/dist-packages (from yfinance) (0.0.10)\n",
            "Requirement already satisfied: lxml>=4.5.1 in /usr/local/lib/python3.7/dist-packages (from yfinance) (4.8.0)\n",
            "Requirement already satisfied: pandas>=0.24.0 in /usr/local/lib/python3.7/dist-packages (from yfinance) (1.3.5)\n",
            "Requirement already satisfied: numpy>=1.15 in /usr/local/lib/python3.7/dist-packages (from yfinance) (1.21.6)\n",
            "Requirement already satisfied: requests>=2.26 in /usr/local/lib/python3.7/dist-packages (from yfinance) (2.27.1)\n",
            "Requirement already satisfied: python-dateutil>=2.7.3 in /usr/local/lib/python3.7/dist-packages (from pandas>=0.24.0->yfinance) (2.8.2)\n",
            "Requirement already satisfied: pytz>=2017.3 in /usr/local/lib/python3.7/dist-packages (from pandas>=0.24.0->yfinance) (2022.1)\n",
            "Requirement already satisfied: six>=1.5 in /usr/local/lib/python3.7/dist-packages (from python-dateutil>=2.7.3->pandas>=0.24.0->yfinance) (1.15.0)\n",
            "Requirement already satisfied: idna<4,>=2.5 in /usr/local/lib/python3.7/dist-packages (from requests>=2.26->yfinance) (2.10)\n",
            "Requirement already satisfied: certifi>=2017.4.17 in /usr/local/lib/python3.7/dist-packages (from requests>=2.26->yfinance) (2021.10.8)\n",
            "Requirement already satisfied: urllib3<1.27,>=1.21.1 in /usr/local/lib/python3.7/dist-packages (from requests>=2.26->yfinance) (1.24.3)\n",
            "Requirement already satisfied: charset-normalizer~=2.0.0 in /usr/local/lib/python3.7/dist-packages (from requests>=2.26->yfinance) (2.0.12)\n"
          ]
        }
      ]
    },
    {
      "cell_type": "code",
      "source": [
        "!pip install bs4"
      ],
      "metadata": {
        "colab": {
          "base_uri": "https://localhost:8080/",
          "height": 0
        },
        "id": "Ms_dEMoQfI8w",
        "outputId": "01280149-d2a0-4264-b58e-0dca839d5a41"
      },
      "execution_count": 138,
      "outputs": [
        {
          "output_type": "stream",
          "name": "stdout",
          "text": [
            "Requirement already satisfied: bs4 in /usr/local/lib/python3.7/dist-packages (0.0.1)\n",
            "Requirement already satisfied: beautifulsoup4 in /usr/local/lib/python3.7/dist-packages (from bs4) (4.6.3)\n"
          ]
        }
      ]
    },
    {
      "cell_type": "code",
      "source": [
        "!pip install pmdarima"
      ],
      "metadata": {
        "colab": {
          "base_uri": "https://localhost:8080/",
          "height": 0
        },
        "id": "mobgDKbvuRw-",
        "outputId": "86f114d9-dd9e-4c28-8db7-4f36ece12ed3"
      },
      "execution_count": 139,
      "outputs": [
        {
          "output_type": "stream",
          "name": "stdout",
          "text": [
            "Requirement already satisfied: pmdarima in /usr/local/lib/python3.7/dist-packages (1.8.5)\n",
            "Requirement already satisfied: setuptools!=50.0.0,>=38.6.0 in /usr/local/lib/python3.7/dist-packages (from pmdarima) (57.4.0)\n",
            "Requirement already satisfied: urllib3 in /usr/local/lib/python3.7/dist-packages (from pmdarima) (1.24.3)\n",
            "Requirement already satisfied: Cython!=0.29.18,>=0.29 in /usr/local/lib/python3.7/dist-packages (from pmdarima) (0.29.28)\n",
            "Requirement already satisfied: scikit-learn>=0.22 in /usr/local/lib/python3.7/dist-packages (from pmdarima) (1.0.2)\n",
            "Requirement already satisfied: pandas>=0.19 in /usr/local/lib/python3.7/dist-packages (from pmdarima) (1.3.5)\n",
            "Requirement already satisfied: statsmodels!=0.12.0,>=0.11 in /usr/local/lib/python3.7/dist-packages (from pmdarima) (0.13.2)\n",
            "Requirement already satisfied: numpy>=1.19.3 in /usr/local/lib/python3.7/dist-packages (from pmdarima) (1.21.6)\n",
            "Requirement already satisfied: scipy>=1.3.2 in /usr/local/lib/python3.7/dist-packages (from pmdarima) (1.4.1)\n",
            "Requirement already satisfied: joblib>=0.11 in /usr/local/lib/python3.7/dist-packages (from pmdarima) (1.1.0)\n",
            "Requirement already satisfied: python-dateutil>=2.7.3 in /usr/local/lib/python3.7/dist-packages (from pandas>=0.19->pmdarima) (2.8.2)\n",
            "Requirement already satisfied: pytz>=2017.3 in /usr/local/lib/python3.7/dist-packages (from pandas>=0.19->pmdarima) (2022.1)\n",
            "Requirement already satisfied: six>=1.5 in /usr/local/lib/python3.7/dist-packages (from python-dateutil>=2.7.3->pandas>=0.19->pmdarima) (1.15.0)\n",
            "Requirement already satisfied: threadpoolctl>=2.0.0 in /usr/local/lib/python3.7/dist-packages (from scikit-learn>=0.22->pmdarima) (3.1.0)\n",
            "Requirement already satisfied: packaging>=21.3 in /usr/local/lib/python3.7/dist-packages (from statsmodels!=0.12.0,>=0.11->pmdarima) (21.3)\n",
            "Requirement already satisfied: patsy>=0.5.2 in /usr/local/lib/python3.7/dist-packages (from statsmodels!=0.12.0,>=0.11->pmdarima) (0.5.2)\n",
            "Requirement already satisfied: pyparsing!=3.0.5,>=2.0.2 in /usr/local/lib/python3.7/dist-packages (from packaging>=21.3->statsmodels!=0.12.0,>=0.11->pmdarima) (3.0.8)\n"
          ]
        }
      ]
    },
    {
      "cell_type": "markdown",
      "source": [
        "# Import library"
      ],
      "metadata": {
        "id": "LhmxCly1Og_r"
      }
    },
    {
      "cell_type": "code",
      "execution_count": 140,
      "metadata": {
        "id": "czxFSw7ZebLr"
      },
      "outputs": [],
      "source": [
        "from datetime import date\n",
        "import yfinance as yf\n",
        "from fbprophet import Prophet\n",
        "from fbprophet.plot import plot_plotly\n",
        "from plotly import graph_objs as go\n",
        "from bs4 import BeautifulSoup \n",
        "import requests\n",
        "\n",
        "import matplotlib.pyplot as plt\n",
        "import pandas as pd\n",
        "import numpy as np\n",
        "import tensorflow as tf\n",
        "\n",
        "from sklearn.metrics import mean_absolute_error, r2_score, mean_squared_error\n",
        "from sklearn.preprocessing import MinMaxScaler\n",
        "\n",
        "from pmdarima import auto_arima"
      ]
    },
    {
      "cell_type": "markdown",
      "source": [
        "#Scraping set-100 name"
      ],
      "metadata": {
        "id": "_VCVKVV0OmOw"
      }
    },
    {
      "cell_type": "code",
      "source": [
        "def thai_stock():\n",
        "    url = \"https://www.settrade.com/C13_MarketSummary.jsp?detail=SET100\"\n",
        "    data = requests.get(url).text\n",
        "    soup = BeautifulSoup(data, \"html.parser\")\n",
        "    selector = 'a.link-stt'\n",
        "    symbols = soup.select(selector)\n",
        "    set100 = list(map(lambda s: s.text, symbols[9:109]))\n",
        "    set100BK = [i +\".BK\" for i in set100]\n",
        "    return set100BK"
      ],
      "metadata": {
        "id": "BBgR9KtlfA7-"
      },
      "execution_count": 141,
      "outputs": []
    },
    {
      "cell_type": "code",
      "source": [
        "thai_sc = thai_stock()"
      ],
      "metadata": {
        "id": "t-2gR7mxfBdq"
      },
      "execution_count": 142,
      "outputs": []
    },
    {
      "cell_type": "markdown",
      "source": [
        "# Name list SET-100"
      ],
      "metadata": {
        "id": "erCxU-bEOys7"
      }
    },
    {
      "cell_type": "code",
      "source": [
        "print(thai_sc)"
      ],
      "metadata": {
        "colab": {
          "base_uri": "https://localhost:8080/",
          "height": 0
        },
        "id": "6exz6nTTfPzW",
        "outputId": "7eb53a98-e383-4f75-9234-ee220a604e56"
      },
      "execution_count": 143,
      "outputs": [
        {
          "output_type": "stream",
          "name": "stdout",
          "text": [
            "['ACE.BK', 'ADVANC.BK', 'AEONTS.BK', 'AMATA.BK', 'AOT.BK', 'AP.BK', 'AWC.BK', 'BAM.BK', 'BANPU.BK', 'BBL.BK', 'BCH.BK', 'BCP.BK', 'BCPG.BK', 'BDMS.BK', 'BEC.BK', 'BEM.BK', 'BGRIM.BK', 'BH.BK', 'BLA.BK', 'BPP.BK', 'BTS.BK', 'CBG.BK', 'CENTEL.BK', 'CHG.BK', 'CK.BK', 'CKP.BK', 'COM7.BK', 'CPALL.BK', 'CPF.BK', 'CPN.BK', 'CRC.BK', 'DOHOME.BK', 'DTAC.BK', 'EA.BK', 'EGCO.BK', 'EPG.BK', 'ESSO.BK', 'GLOBAL.BK', 'GPSC.BK', 'GULF.BK', 'GUNKUL.BK', 'HANA.BK', 'HMPRO.BK', 'INTUCH.BK', 'IRPC.BK', 'IVL.BK', 'JMART.BK', 'JMT.BK', 'KBANK.BK', 'KCE.BK', 'KEX.BK', 'KKP.BK', 'KTB.BK', 'KTC.BK', 'LH.BK', 'MAJOR.BK', 'MEGA.BK', 'MINT.BK', 'MTC.BK', 'OR.BK', 'ORI.BK', 'OSP.BK', 'PLANB.BK', 'PTG.BK', 'PTT.BK', 'PTTEP.BK', 'PTTGC.BK', 'QH.BK', 'RATCH.BK', 'RBF.BK', 'RCL.BK', 'RS.BK', 'SAWAD.BK', 'SCBB.BK', 'SCC.BK', 'SCGP.BK', 'SINGER.BK', 'SIRI.BK', 'SPALI.BK', 'SPRC.BK', 'STA.BK', 'STARK.BK', 'STEC.BK', 'STGT.BK', 'SUPER.BK', 'SYNEX.BK', 'TASCO.BK', 'TCAP.BK', 'THANI.BK', 'TIDLOR.BK', 'TISCO.BK', 'TOP.BK', 'TQM.BK', 'TRUE.BK', 'TTA.BK', 'TTB.BK', 'TU.BK', 'TVO.BK', 'VGI.BK', 'WHA.BK']\n"
          ]
        }
      ]
    },
    {
      "cell_type": "markdown",
      "source": [
        "ทำการ copy เลือกหุ้นจาก list ด้านบนหนึ่งตัวใส่ลงใน selected_stock โดยหุ้นแต่ละตัวจะลงท้ายด้วย .BK เพื่อให้ดึงใน yfinance "
      ],
      "metadata": {
        "id": "PA8lYb6pPHXO"
      }
    },
    {
      "cell_type": "code",
      "source": [
        "START = \"2015-01-01\" #เก็บ data ตั้งแต่วันที่\n",
        "TODAY = date.today().strftime(\"%Y-%m-%d\") #วันนี้\n",
        "n_years = 1\n",
        "period = n_years * 30\n",
        "# selected_stock = \"INTUCH.BK\" #เลือกหุ้นจากด้านบนใส่ลงในนี้ 1 ตัว\n",
        "time_step = 60\n",
        "sc = MinMaxScaler(feature_range = (0, 1))\n",
        "list_score = []"
      ],
      "metadata": {
        "id": "oW7uo2mMemd_"
      },
      "execution_count": 144,
      "outputs": []
    },
    {
      "cell_type": "markdown",
      "source": [
        "# Prophet model "
      ],
      "metadata": {
        "id": "8toqYb8eq2e5"
      }
    },
    {
      "cell_type": "code",
      "source": [
        "def load_data(ticker):\n",
        "    data = yf.download(ticker, START, TODAY)\n",
        "    data.reset_index(inplace=True)\n",
        "    return data\n",
        "\n",
        "def create_data_prophet(data):\n",
        "  data1 = data[['Date', 'Close']]\n",
        "  data1 = data1.rename(columns={\"Date\": \"ds\", \"Close\": \"y\"})\n",
        "  train_size = int(len(data1)*0.85)\n",
        "  test_size = int(len(data1) - train_size)\n",
        "  train_set = data1[:train_size].copy()\n",
        "  test_set = data1[train_size:].copy().reset_index(drop = True)\n",
        "  return train_size,test_size,train_set,test_set\n",
        "\n",
        "def prophet_model(train_set, test_set):\n",
        "  m = Prophet()\n",
        "  m.fit(train_set)\n",
        "  future = m.make_future_dataframe(periods= len(test_set))\n",
        "  forecast = m.predict(future)\n",
        "  return forecast\n",
        "\n",
        "def evaluate_prophet(test_set, forecast, scores_model, train_size,selected_stock):\n",
        "  y_test = test_set[\"y\"]\n",
        "  y_pred = forecast[train_size:][\"yhat\"].reset_index(drop = True)\n",
        "\n",
        "  mae = mean_absolute_error(y_test, y_pred) \n",
        "  rmse = mean_squared_error(y_test, y_pred, squared = False)\n",
        "  r2 = r2_score(y_test, y_pred)\n",
        "  scores_model.append({'Model': 'Prophet','MAE': mae,'RMSE': rmse,\n",
        "                    'R2_score': r2, \"Stock\": selected_stock})\n",
        "  return scores_model"
      ],
      "metadata": {
        "id": "I7fyxe_7oET2"
      },
      "execution_count": 145,
      "outputs": []
    },
    {
      "cell_type": "markdown",
      "source": [
        "# Prepare Data for (RNN,LSTM,Conv1D)"
      ],
      "metadata": {
        "id": "CrT66FRd0ICS"
      }
    },
    {
      "cell_type": "code",
      "source": [
        "def prepare_data_train(train_set, time_step, sc, train_size):\n",
        "  x_train = []\n",
        "  y_train = []\n",
        "  train_set1 = train_set.reset_index()[\"y\"]\n",
        "  train_set1 = np.array(train_set1).reshape(-1,1)\n",
        "  training_set_scaled = sc.fit_transform(train_set1)\n",
        "  for i in range(time_step, train_size):\n",
        "     x_train.append(training_set_scaled[i-time_step:i, 0])\n",
        "     y_train.append(training_set_scaled[i, 0])\n",
        "  x_train, y_train = np.array(x_train), np.array(y_train)\n",
        "  x_train = np.reshape(x_train, (x_train.shape[0], x_train.shape[1], 1))\n",
        "  return x_train,y_train\n",
        "\n",
        "def prepare_data_test(data, time_step,train_size,sc):\n",
        "  x_test = []\n",
        "  inputs_test = data[train_size  - time_step:][\"Close\"].values\n",
        "  inputs_test = inputs_test.reshape(-1,1)\n",
        "  inputs_test = sc.transform(inputs_test)\n",
        "  for i in range(time_step, len(inputs_test)):\n",
        "     x_test.append(inputs_test[i-time_step:i, 0])\n",
        "  x_test = np.array(x_test)\n",
        "  x_test = np.reshape(x_test, (x_test.shape[0], x_test.shape[1], 1))\n",
        "  y_test = data[train_size:][\"Close\"].values\n",
        "  return x_test, y_test\n",
        "\n",
        "def evaluate(train_size, y_test, y_pred, name,data,scores_model,selected_stock):\n",
        "  y_test = data[train_size:][\"Close\"].values\n",
        "  mae = mean_absolute_error(y_test, y_pred) \n",
        "  rmse = mean_squared_error(y_test, y_pred, squared = False)\n",
        "  r2 = r2_score(y_test, y_pred)\n",
        "  scores_model.append({'Model': name,'MAE': mae,'RMSE': rmse,\n",
        "                      'R2_score': r2, \"Stock\": selected_stock})\n",
        "  return scores_model"
      ],
      "metadata": {
        "id": "Qyd0s5KRql41"
      },
      "execution_count": 146,
      "outputs": []
    },
    {
      "cell_type": "markdown",
      "source": [
        "# LSTM"
      ],
      "metadata": {
        "id": "E497gHZZ3VZh"
      }
    },
    {
      "cell_type": "code",
      "source": [
        "def LSTM_model(time_step, x_train, y_train, x_test):\n",
        "    tf.keras.backend.clear_session()\n",
        "    tf.random.set_seed(1)\n",
        "    name = \"LSTM\"\n",
        "    modellstm = tf.keras.models.Sequential([\n",
        "    tf.keras.layers.LSTM(64, return_sequences=True,input_shape=(time_step,1)),\n",
        "    tf.keras.layers.LSTM(32),\n",
        "    tf.keras.layers.Dense(1),\n",
        "  ])\n",
        "\n",
        "    modellstm.compile(loss='mean_squared_error', optimizer='adam')\n",
        "    modellstm.fit(x_train,y_train,epochs=20,batch_size=64,verbose=0)\n",
        "    y_pred = modellstm.predict(x_test)\n",
        "    y_pred_lstm = sc.inverse_transform(y_pred)\n",
        "    return y_pred_lstm, name"
      ],
      "metadata": {
        "id": "EGTYbqhws32z"
      },
      "execution_count": 147,
      "outputs": []
    },
    {
      "cell_type": "markdown",
      "source": [
        "# RNN"
      ],
      "metadata": {
        "id": "ebdgJ4Wj3Wvg"
      }
    },
    {
      "cell_type": "code",
      "source": [
        "def RNN_model(time_step, x_train, y_train, x_test):\n",
        "  tf.keras.backend.clear_session()\n",
        "  tf.random.set_seed(1)\n",
        "  name = \"RNN\"\n",
        "  modelRNN = tf.keras.models.Sequential([\n",
        "  tf.keras.layers.SimpleRNN(64, return_sequences=True,input_shape=(time_step,1)),\n",
        "  tf.keras.layers.SimpleRNN(32,),\n",
        "  tf.keras.layers.Dense(1),\n",
        "  ])\n",
        "\n",
        "  modelRNN.compile(loss='mean_squared_error', optimizer='adam')\n",
        "  modelRNN.fit(x_train,y_train,epochs=20,batch_size=64,verbose=0)\n",
        "  y_pred = modelRNN.predict(x_test)\n",
        "  y_pred_rnn = sc.inverse_transform(y_pred)\n",
        "  return y_pred_rnn, name"
      ],
      "metadata": {
        "id": "80VBi20UzCg7"
      },
      "execution_count": 148,
      "outputs": []
    },
    {
      "cell_type": "markdown",
      "source": [
        "# CNN"
      ],
      "metadata": {
        "id": "zUtivYoi3YnU"
      }
    },
    {
      "cell_type": "code",
      "source": [
        "def CNN_model(time_step, x_train, y_train, x_test):\n",
        "  tf.keras.backend.clear_session()\n",
        "  tf.random.set_seed(1)\n",
        "  name = \"CNN\"\n",
        "  modelCNN = tf.keras.models.Sequential([\n",
        "  tf.keras.layers.Conv1D(64, 3, activation = \"relu\",input_shape=(time_step,1)),\n",
        "  tf.keras.layers.MaxPooling1D(2),\n",
        "  tf.keras.layers.Conv1D(32, 3, activation = \"relu\"),\n",
        "  tf.keras.layers.GlobalMaxPool1D(),\n",
        "  tf.keras.layers.Dense(1),\n",
        "  ])\n",
        "\n",
        "  modelCNN.compile(loss='mean_squared_error', optimizer='adam')\n",
        "  modelCNN.fit(x_train,y_train,epochs=20,batch_size=64,verbose=0)\n",
        "  y_pred = modelCNN.predict(x_test)\n",
        "  y_pred_cnn = sc.inverse_transform(y_pred)\n",
        "  return y_pred_cnn, name"
      ],
      "metadata": {
        "id": "_THlKens0epq"
      },
      "execution_count": 149,
      "outputs": []
    },
    {
      "cell_type": "markdown",
      "source": [
        "# Auto arima"
      ],
      "metadata": {
        "id": "NiA8Xizk3adB"
      }
    },
    {
      "cell_type": "code",
      "source": [
        "def auto_arima_model(train_set, test_set):\n",
        "  name = \"Auto-Arima\"\n",
        "  training = train_set ['y']\n",
        "  validation = test_set ['y']\n",
        "  model = auto_arima(training, start_p=1, start_q=1,max_p=3, max_q=3, m=12,start_P=0,d=1, D=1, trace=False,error_action='ignore',suppress_warnings=True)\n",
        "  model.fit(training)\n",
        "  forecast = model.predict(n_periods=len(validation))\n",
        "  return forecast,name"
      ],
      "metadata": {
        "id": "VhJmHvRt3cTc"
      },
      "execution_count": 150,
      "outputs": []
    },
    {
      "cell_type": "markdown",
      "source": [
        "# Combine model"
      ],
      "metadata": {
        "id": "zT60HGKZ5h9E"
      }
    },
    {
      "cell_type": "code",
      "source": [
        "data.shape[0]"
      ],
      "metadata": {
        "colab": {
          "base_uri": "https://localhost:8080/",
          "height": 0
        },
        "id": "2eb_1PbCIvbS",
        "outputId": "0c9316d4-ed78-4916-b790-6eb0eb0e3aa0"
      },
      "execution_count": 151,
      "outputs": [
        {
          "output_type": "execute_result",
          "data": {
            "text/plain": [
              "1"
            ]
          },
          "metadata": {},
          "execution_count": 151
        }
      ]
    },
    {
      "cell_type": "code",
      "source": [
        "def predict_stock(*arg):    \n",
        "    stock = [\"AOT.BK\", \"COM7.BK\", \"MINT.BK\", \"PTT.BK\", \"INTUCH.BK\"]\n",
        "    scores_model = []\n",
        "    for selected_stock in stock :\n",
        "      data = load_data(selected_stock)\n",
        "      if data.shape[0] < 1000 :\n",
        "        pass \n",
        "      else :\n",
        "        train_size,test_size,train_set,test_set = create_data_prophet(data)\n",
        "        forecast = prophet_model(train_set, test_set)\n",
        "        score_Prophet = evaluate_prophet(test_set, forecast, scores_model, train_size,selected_stock)\n",
        "        x_train,y_train = prepare_data_train(train_set, time_step, sc, train_size)\n",
        "        x_test, y_test = prepare_data_test(data, time_step,train_size,sc)\n",
        "        y_pred_lstm, name_lstm = LSTM_model(time_step, x_train, y_train, x_test)\n",
        "        score_LSTM = evaluate(train_size, y_test, y_pred_lstm, name_lstm, data,scores_model,selected_stock)\n",
        "        y_pred_rnn, name_rnn = RNN_model(time_step, x_train, y_train, x_test)\n",
        "        score_RNN = evaluate(train_size, y_test, y_pred_rnn, name_rnn, data,scores_model,selected_stock)\n",
        "        y_pred_cnn, name_cnn = CNN_model(time_step, x_train, y_train, x_test)\n",
        "        score_CNN = evaluate(train_size, y_test, y_pred_cnn, name_cnn, data,scores_model,selected_stock)\n",
        "        y_pred_arima,name_arima = auto_arima_model(train_set, test_set)\n",
        "        score_arima = evaluate(train_size, y_test, y_pred_arima, name_arima, data,scores_model,selected_stock)\n",
        "    return scores_model"
      ],
      "metadata": {
        "id": "7s5LjYNIpwkc"
      },
      "execution_count": 152,
      "outputs": []
    },
    {
      "cell_type": "code",
      "source": [
        "scores_model = predict_stock()"
      ],
      "metadata": {
        "colab": {
          "base_uri": "https://localhost:8080/",
          "height": 0
        },
        "id": "Lh2AdBY8qMtp",
        "outputId": "f674d7a3-b484-4e38-c2a0-a5d2422a3d01"
      },
      "execution_count": 153,
      "outputs": [
        {
          "output_type": "stream",
          "name": "stdout",
          "text": [
            "\r[*********************100%***********************]  1 of 1 completed"
          ]
        },
        {
          "output_type": "stream",
          "name": "stderr",
          "text": [
            "INFO:fbprophet:Disabling daily seasonality. Run prophet with daily_seasonality=True to override this.\n"
          ]
        },
        {
          "output_type": "stream",
          "name": "stdout",
          "text": [
            "\n",
            "[*********************100%***********************]  1 of 1 completed"
          ]
        },
        {
          "output_type": "stream",
          "name": "stderr",
          "text": [
            "INFO:fbprophet:Disabling daily seasonality. Run prophet with daily_seasonality=True to override this.\n"
          ]
        },
        {
          "output_type": "stream",
          "name": "stdout",
          "text": [
            "\n",
            "[*********************100%***********************]  1 of 1 completed"
          ]
        },
        {
          "output_type": "stream",
          "name": "stderr",
          "text": [
            "INFO:fbprophet:Disabling daily seasonality. Run prophet with daily_seasonality=True to override this.\n"
          ]
        },
        {
          "output_type": "stream",
          "name": "stdout",
          "text": [
            "\n",
            "[*********************100%***********************]  1 of 1 completed"
          ]
        },
        {
          "output_type": "stream",
          "name": "stderr",
          "text": [
            "INFO:fbprophet:Disabling daily seasonality. Run prophet with daily_seasonality=True to override this.\n"
          ]
        },
        {
          "output_type": "stream",
          "name": "stdout",
          "text": [
            "\n",
            "[*********************100%***********************]  1 of 1 completed"
          ]
        },
        {
          "output_type": "stream",
          "name": "stderr",
          "text": [
            "INFO:fbprophet:Disabling daily seasonality. Run prophet with daily_seasonality=True to override this.\n"
          ]
        },
        {
          "output_type": "stream",
          "name": "stdout",
          "text": [
            "\n"
          ]
        }
      ]
    },
    {
      "cell_type": "code",
      "source": [
        "scores_model"
      ],
      "metadata": {
        "colab": {
          "base_uri": "https://localhost:8080/",
          "height": 0
        },
        "id": "rK2x45Resy0n",
        "outputId": "29f190ad-6496-407a-92a3-f09f569a7e1d"
      },
      "execution_count": 154,
      "outputs": [
        {
          "output_type": "execute_result",
          "data": {
            "text/plain": [
              "[{'MAE': 13.335206720068943,\n",
              "  'Model': 'Prophet',\n",
              "  'R2_score': -20.337286525545508,\n",
              "  'RMSE': 13.796891768110617,\n",
              "  'Stock': 'AOT.BK'},\n",
              " {'MAE': 1.2518534142426336,\n",
              "  'Model': 'LSTM',\n",
              "  'R2_score': 0.6903157106360627,\n",
              "  'RMSE': 1.6621539640657124,\n",
              "  'Stock': 'AOT.BK'},\n",
              " {'MAE': 0.8975284590703271,\n",
              "  'Model': 'RNN',\n",
              "  'R2_score': 0.8345520402165141,\n",
              "  'RMSE': 1.2149051439118428,\n",
              "  'Stock': 'AOT.BK'},\n",
              " {'MAE': 2.7237677842043757,\n",
              "  'Model': 'CNN',\n",
              "  'R2_score': -0.11861444364276941,\n",
              "  'RMSE': 3.1590163537446783,\n",
              "  'Stock': 'AOT.BK'},\n",
              " {'MAE': 43.68639684148367,\n",
              "  'Model': 'Auto-Arima',\n",
              "  'R2_score': -270.5311542612873,\n",
              "  'RMSE': 49.21772051005327,\n",
              "  'Stock': 'AOT.BK'},\n",
              " {'MAE': 13.168175446830372,\n",
              "  'Model': 'Prophet',\n",
              "  'R2_score': -0.7969510927302528,\n",
              "  'RMSE': 15.694036268128523,\n",
              "  'Stock': 'COM7.BK'},\n",
              " {'MAE': 4.233877937161193,\n",
              "  'Model': 'LSTM',\n",
              "  'R2_score': 0.6748562626043688,\n",
              "  'RMSE': 6.675813878504323,\n",
              "  'Stock': 'COM7.BK'},\n",
              " {'MAE': 3.2904659816196986,\n",
              "  'Model': 'RNN',\n",
              "  'R2_score': 0.8103705707757967,\n",
              "  'RMSE': 5.098229624859568,\n",
              "  'Stock': 'COM7.BK'},\n",
              " {'MAE': 9.503534963179607,\n",
              "  'Model': 'CNN',\n",
              "  'R2_score': -0.8202596259389459,\n",
              "  'RMSE': 15.795493222144946,\n",
              "  'Stock': 'COM7.BK'},\n",
              " {'MAE': 57.97083139839573,\n",
              "  'Model': 'Auto-Arima',\n",
              "  'R2_score': -34.67904431185141,\n",
              "  'RMSE': 69.93154606063443,\n",
              "  'Stock': 'COM7.BK'},\n",
              " {'MAE': 16.751556690717507,\n",
              "  'Model': 'Prophet',\n",
              "  'R2_score': -102.68178751397095,\n",
              "  'RMSE': 16.899638256583184,\n",
              "  'Stock': 'MINT.BK'},\n",
              " {'MAE': 0.80806898624263,\n",
              "  'Model': 'LSTM',\n",
              "  'R2_score': 0.6264358423037638,\n",
              "  'RMSE': 1.014398902478027,\n",
              "  'Stock': 'MINT.BK'},\n",
              " {'MAE': 0.5554830286833231,\n",
              "  'Model': 'RNN',\n",
              "  'R2_score': 0.8095895363872723,\n",
              "  'RMSE': 0.7242217703244022,\n",
              "  'Stock': 'MINT.BK'},\n",
              " {'MAE': 1.4342748163344707,\n",
              "  'Model': 'CNN',\n",
              "  'R2_score': -0.00933568587921485,\n",
              "  'RMSE': 1.6674160772296593,\n",
              "  'Stock': 'MINT.BK'},\n",
              " {'MAE': 23.091481189294154,\n",
              "  'Model': 'Auto-Arima',\n",
              "  'R2_score': -254.84629848580173,\n",
              "  'RMSE': 26.547017708355227,\n",
              "  'Stock': 'MINT.BK'},\n",
              " {'MAE': 4.924150212966997,\n",
              "  'Model': 'Prophet',\n",
              "  'R2_score': -10.928684069208737,\n",
              "  'RMSE': 5.290714401731077,\n",
              "  'Stock': 'PTT.BK'},\n",
              " {'MAE': 0.6046377317735765,\n",
              "  'Model': 'LSTM',\n",
              "  'R2_score': 0.7487120050025462,\n",
              "  'RMSE': 0.7678986796399953,\n",
              "  'Stock': 'PTT.BK'},\n",
              " {'MAE': 0.5099100548676337,\n",
              "  'Model': 'RNN',\n",
              "  'R2_score': 0.8272176022017954,\n",
              "  'RMSE': 0.636748306515557,\n",
              "  'Stock': 'PTT.BK'},\n",
              " {'MAE': 1.5584755943955553,\n",
              "  'Model': 'CNN',\n",
              "  'R2_score': -0.5102738394285946,\n",
              "  'RMSE': 1.882547314039342,\n",
              "  'Stock': 'PTT.BK'},\n",
              " {'MAE': 7.053414908442975,\n",
              "  'Model': 'Auto-Arima',\n",
              "  'R2_score': -25.352291995581545,\n",
              "  'RMSE': 7.86370562162989,\n",
              "  'Stock': 'PTT.BK'},\n",
              " {'MAE': 20.18554133868233,\n",
              "  'Model': 'Prophet',\n",
              "  'R2_score': -6.666917115230276,\n",
              "  'RMSE': 21.461775612926722,\n",
              "  'Stock': 'INTUCH.BK'},\n",
              " {'MAE': 1.4794031350353685,\n",
              "  'Model': 'LSTM',\n",
              "  'R2_score': 0.9193789697541738,\n",
              "  'RMSE': 2.2007942242275957,\n",
              "  'Stock': 'INTUCH.BK'},\n",
              " {'MAE': 1.3307579840613661,\n",
              "  'Model': 'RNN',\n",
              "  'R2_score': 0.9443882087630733,\n",
              "  'RMSE': 1.8278422331598037,\n",
              "  'Stock': 'INTUCH.BK'},\n",
              " {'MAE': 3.7854915290289606,\n",
              "  'Model': 'CNN',\n",
              "  'R2_score': 0.599225922315916,\n",
              "  'RMSE': 4.9068759350412465,\n",
              "  'Stock': 'INTUCH.BK'},\n",
              " {'MAE': 24.082796010013464,\n",
              "  'Model': 'Auto-Arima',\n",
              "  'R2_score': -10.827921169110304,\n",
              "  'RMSE': 26.65688979247029,\n",
              "  'Stock': 'INTUCH.BK'}]"
            ]
          },
          "metadata": {},
          "execution_count": 154
        }
      ]
    },
    {
      "cell_type": "code",
      "source": [
        "list_score.append(scores_model)"
      ],
      "metadata": {
        "id": "g4DP4eXI_hnb"
      },
      "execution_count": 155,
      "outputs": []
    },
    {
      "cell_type": "code",
      "source": [
        "results = pd.DataFrame(scores_model).sort_values(by='RMSE',ascending=True)\n",
        "results"
      ],
      "metadata": {
        "colab": {
          "base_uri": "https://localhost:8080/",
          "height": 833
        },
        "id": "TNLO1IQ36xRz",
        "outputId": "88fbc75e-06ac-468d-c507-450c181700dd"
      },
      "execution_count": 156,
      "outputs": [
        {
          "output_type": "execute_result",
          "data": {
            "text/plain": [
              "         Model        MAE       RMSE    R2_score      Stock\n",
              "17         RNN   0.509910   0.636748    0.827218     PTT.BK\n",
              "12         RNN   0.555483   0.724222    0.809590    MINT.BK\n",
              "16        LSTM   0.604638   0.767899    0.748712     PTT.BK\n",
              "11        LSTM   0.808069   1.014399    0.626436    MINT.BK\n",
              "2          RNN   0.897528   1.214905    0.834552     AOT.BK\n",
              "1         LSTM   1.251853   1.662154    0.690316     AOT.BK\n",
              "13         CNN   1.434275   1.667416   -0.009336    MINT.BK\n",
              "22         RNN   1.330758   1.827842    0.944388  INTUCH.BK\n",
              "18         CNN   1.558476   1.882547   -0.510274     PTT.BK\n",
              "21        LSTM   1.479403   2.200794    0.919379  INTUCH.BK\n",
              "3          CNN   2.723768   3.159016   -0.118614     AOT.BK\n",
              "23         CNN   3.785492   4.906876    0.599226  INTUCH.BK\n",
              "7          RNN   3.290466   5.098230    0.810371    COM7.BK\n",
              "15     Prophet   4.924150   5.290714  -10.928684     PTT.BK\n",
              "6         LSTM   4.233878   6.675814    0.674856    COM7.BK\n",
              "19  Auto-Arima   7.053415   7.863706  -25.352292     PTT.BK\n",
              "0      Prophet  13.335207  13.796892  -20.337287     AOT.BK\n",
              "5      Prophet  13.168175  15.694036   -0.796951    COM7.BK\n",
              "8          CNN   9.503535  15.795493   -0.820260    COM7.BK\n",
              "10     Prophet  16.751557  16.899638 -102.681788    MINT.BK\n",
              "20     Prophet  20.185541  21.461776   -6.666917  INTUCH.BK\n",
              "14  Auto-Arima  23.091481  26.547018 -254.846298    MINT.BK\n",
              "24  Auto-Arima  24.082796  26.656890  -10.827921  INTUCH.BK\n",
              "4   Auto-Arima  43.686397  49.217721 -270.531154     AOT.BK\n",
              "9   Auto-Arima  57.970831  69.931546  -34.679044    COM7.BK"
            ],
            "text/html": [
              "\n",
              "  <div id=\"df-e7959c5a-2449-481e-9c9a-5ed6af24751c\">\n",
              "    <div class=\"colab-df-container\">\n",
              "      <div>\n",
              "<style scoped>\n",
              "    .dataframe tbody tr th:only-of-type {\n",
              "        vertical-align: middle;\n",
              "    }\n",
              "\n",
              "    .dataframe tbody tr th {\n",
              "        vertical-align: top;\n",
              "    }\n",
              "\n",
              "    .dataframe thead th {\n",
              "        text-align: right;\n",
              "    }\n",
              "</style>\n",
              "<table border=\"1\" class=\"dataframe\">\n",
              "  <thead>\n",
              "    <tr style=\"text-align: right;\">\n",
              "      <th></th>\n",
              "      <th>Model</th>\n",
              "      <th>MAE</th>\n",
              "      <th>RMSE</th>\n",
              "      <th>R2_score</th>\n",
              "      <th>Stock</th>\n",
              "    </tr>\n",
              "  </thead>\n",
              "  <tbody>\n",
              "    <tr>\n",
              "      <th>17</th>\n",
              "      <td>RNN</td>\n",
              "      <td>0.509910</td>\n",
              "      <td>0.636748</td>\n",
              "      <td>0.827218</td>\n",
              "      <td>PTT.BK</td>\n",
              "    </tr>\n",
              "    <tr>\n",
              "      <th>12</th>\n",
              "      <td>RNN</td>\n",
              "      <td>0.555483</td>\n",
              "      <td>0.724222</td>\n",
              "      <td>0.809590</td>\n",
              "      <td>MINT.BK</td>\n",
              "    </tr>\n",
              "    <tr>\n",
              "      <th>16</th>\n",
              "      <td>LSTM</td>\n",
              "      <td>0.604638</td>\n",
              "      <td>0.767899</td>\n",
              "      <td>0.748712</td>\n",
              "      <td>PTT.BK</td>\n",
              "    </tr>\n",
              "    <tr>\n",
              "      <th>11</th>\n",
              "      <td>LSTM</td>\n",
              "      <td>0.808069</td>\n",
              "      <td>1.014399</td>\n",
              "      <td>0.626436</td>\n",
              "      <td>MINT.BK</td>\n",
              "    </tr>\n",
              "    <tr>\n",
              "      <th>2</th>\n",
              "      <td>RNN</td>\n",
              "      <td>0.897528</td>\n",
              "      <td>1.214905</td>\n",
              "      <td>0.834552</td>\n",
              "      <td>AOT.BK</td>\n",
              "    </tr>\n",
              "    <tr>\n",
              "      <th>1</th>\n",
              "      <td>LSTM</td>\n",
              "      <td>1.251853</td>\n",
              "      <td>1.662154</td>\n",
              "      <td>0.690316</td>\n",
              "      <td>AOT.BK</td>\n",
              "    </tr>\n",
              "    <tr>\n",
              "      <th>13</th>\n",
              "      <td>CNN</td>\n",
              "      <td>1.434275</td>\n",
              "      <td>1.667416</td>\n",
              "      <td>-0.009336</td>\n",
              "      <td>MINT.BK</td>\n",
              "    </tr>\n",
              "    <tr>\n",
              "      <th>22</th>\n",
              "      <td>RNN</td>\n",
              "      <td>1.330758</td>\n",
              "      <td>1.827842</td>\n",
              "      <td>0.944388</td>\n",
              "      <td>INTUCH.BK</td>\n",
              "    </tr>\n",
              "    <tr>\n",
              "      <th>18</th>\n",
              "      <td>CNN</td>\n",
              "      <td>1.558476</td>\n",
              "      <td>1.882547</td>\n",
              "      <td>-0.510274</td>\n",
              "      <td>PTT.BK</td>\n",
              "    </tr>\n",
              "    <tr>\n",
              "      <th>21</th>\n",
              "      <td>LSTM</td>\n",
              "      <td>1.479403</td>\n",
              "      <td>2.200794</td>\n",
              "      <td>0.919379</td>\n",
              "      <td>INTUCH.BK</td>\n",
              "    </tr>\n",
              "    <tr>\n",
              "      <th>3</th>\n",
              "      <td>CNN</td>\n",
              "      <td>2.723768</td>\n",
              "      <td>3.159016</td>\n",
              "      <td>-0.118614</td>\n",
              "      <td>AOT.BK</td>\n",
              "    </tr>\n",
              "    <tr>\n",
              "      <th>23</th>\n",
              "      <td>CNN</td>\n",
              "      <td>3.785492</td>\n",
              "      <td>4.906876</td>\n",
              "      <td>0.599226</td>\n",
              "      <td>INTUCH.BK</td>\n",
              "    </tr>\n",
              "    <tr>\n",
              "      <th>7</th>\n",
              "      <td>RNN</td>\n",
              "      <td>3.290466</td>\n",
              "      <td>5.098230</td>\n",
              "      <td>0.810371</td>\n",
              "      <td>COM7.BK</td>\n",
              "    </tr>\n",
              "    <tr>\n",
              "      <th>15</th>\n",
              "      <td>Prophet</td>\n",
              "      <td>4.924150</td>\n",
              "      <td>5.290714</td>\n",
              "      <td>-10.928684</td>\n",
              "      <td>PTT.BK</td>\n",
              "    </tr>\n",
              "    <tr>\n",
              "      <th>6</th>\n",
              "      <td>LSTM</td>\n",
              "      <td>4.233878</td>\n",
              "      <td>6.675814</td>\n",
              "      <td>0.674856</td>\n",
              "      <td>COM7.BK</td>\n",
              "    </tr>\n",
              "    <tr>\n",
              "      <th>19</th>\n",
              "      <td>Auto-Arima</td>\n",
              "      <td>7.053415</td>\n",
              "      <td>7.863706</td>\n",
              "      <td>-25.352292</td>\n",
              "      <td>PTT.BK</td>\n",
              "    </tr>\n",
              "    <tr>\n",
              "      <th>0</th>\n",
              "      <td>Prophet</td>\n",
              "      <td>13.335207</td>\n",
              "      <td>13.796892</td>\n",
              "      <td>-20.337287</td>\n",
              "      <td>AOT.BK</td>\n",
              "    </tr>\n",
              "    <tr>\n",
              "      <th>5</th>\n",
              "      <td>Prophet</td>\n",
              "      <td>13.168175</td>\n",
              "      <td>15.694036</td>\n",
              "      <td>-0.796951</td>\n",
              "      <td>COM7.BK</td>\n",
              "    </tr>\n",
              "    <tr>\n",
              "      <th>8</th>\n",
              "      <td>CNN</td>\n",
              "      <td>9.503535</td>\n",
              "      <td>15.795493</td>\n",
              "      <td>-0.820260</td>\n",
              "      <td>COM7.BK</td>\n",
              "    </tr>\n",
              "    <tr>\n",
              "      <th>10</th>\n",
              "      <td>Prophet</td>\n",
              "      <td>16.751557</td>\n",
              "      <td>16.899638</td>\n",
              "      <td>-102.681788</td>\n",
              "      <td>MINT.BK</td>\n",
              "    </tr>\n",
              "    <tr>\n",
              "      <th>20</th>\n",
              "      <td>Prophet</td>\n",
              "      <td>20.185541</td>\n",
              "      <td>21.461776</td>\n",
              "      <td>-6.666917</td>\n",
              "      <td>INTUCH.BK</td>\n",
              "    </tr>\n",
              "    <tr>\n",
              "      <th>14</th>\n",
              "      <td>Auto-Arima</td>\n",
              "      <td>23.091481</td>\n",
              "      <td>26.547018</td>\n",
              "      <td>-254.846298</td>\n",
              "      <td>MINT.BK</td>\n",
              "    </tr>\n",
              "    <tr>\n",
              "      <th>24</th>\n",
              "      <td>Auto-Arima</td>\n",
              "      <td>24.082796</td>\n",
              "      <td>26.656890</td>\n",
              "      <td>-10.827921</td>\n",
              "      <td>INTUCH.BK</td>\n",
              "    </tr>\n",
              "    <tr>\n",
              "      <th>4</th>\n",
              "      <td>Auto-Arima</td>\n",
              "      <td>43.686397</td>\n",
              "      <td>49.217721</td>\n",
              "      <td>-270.531154</td>\n",
              "      <td>AOT.BK</td>\n",
              "    </tr>\n",
              "    <tr>\n",
              "      <th>9</th>\n",
              "      <td>Auto-Arima</td>\n",
              "      <td>57.970831</td>\n",
              "      <td>69.931546</td>\n",
              "      <td>-34.679044</td>\n",
              "      <td>COM7.BK</td>\n",
              "    </tr>\n",
              "  </tbody>\n",
              "</table>\n",
              "</div>\n",
              "      <button class=\"colab-df-convert\" onclick=\"convertToInteractive('df-e7959c5a-2449-481e-9c9a-5ed6af24751c')\"\n",
              "              title=\"Convert this dataframe to an interactive table.\"\n",
              "              style=\"display:none;\">\n",
              "        \n",
              "  <svg xmlns=\"http://www.w3.org/2000/svg\" height=\"24px\"viewBox=\"0 0 24 24\"\n",
              "       width=\"24px\">\n",
              "    <path d=\"M0 0h24v24H0V0z\" fill=\"none\"/>\n",
              "    <path d=\"M18.56 5.44l.94 2.06.94-2.06 2.06-.94-2.06-.94-.94-2.06-.94 2.06-2.06.94zm-11 1L8.5 8.5l.94-2.06 2.06-.94-2.06-.94L8.5 2.5l-.94 2.06-2.06.94zm10 10l.94 2.06.94-2.06 2.06-.94-2.06-.94-.94-2.06-.94 2.06-2.06.94z\"/><path d=\"M17.41 7.96l-1.37-1.37c-.4-.4-.92-.59-1.43-.59-.52 0-1.04.2-1.43.59L10.3 9.45l-7.72 7.72c-.78.78-.78 2.05 0 2.83L4 21.41c.39.39.9.59 1.41.59.51 0 1.02-.2 1.41-.59l7.78-7.78 2.81-2.81c.8-.78.8-2.07 0-2.86zM5.41 20L4 18.59l7.72-7.72 1.47 1.35L5.41 20z\"/>\n",
              "  </svg>\n",
              "      </button>\n",
              "      \n",
              "  <style>\n",
              "    .colab-df-container {\n",
              "      display:flex;\n",
              "      flex-wrap:wrap;\n",
              "      gap: 12px;\n",
              "    }\n",
              "\n",
              "    .colab-df-convert {\n",
              "      background-color: #E8F0FE;\n",
              "      border: none;\n",
              "      border-radius: 50%;\n",
              "      cursor: pointer;\n",
              "      display: none;\n",
              "      fill: #1967D2;\n",
              "      height: 32px;\n",
              "      padding: 0 0 0 0;\n",
              "      width: 32px;\n",
              "    }\n",
              "\n",
              "    .colab-df-convert:hover {\n",
              "      background-color: #E2EBFA;\n",
              "      box-shadow: 0px 1px 2px rgba(60, 64, 67, 0.3), 0px 1px 3px 1px rgba(60, 64, 67, 0.15);\n",
              "      fill: #174EA6;\n",
              "    }\n",
              "\n",
              "    [theme=dark] .colab-df-convert {\n",
              "      background-color: #3B4455;\n",
              "      fill: #D2E3FC;\n",
              "    }\n",
              "\n",
              "    [theme=dark] .colab-df-convert:hover {\n",
              "      background-color: #434B5C;\n",
              "      box-shadow: 0px 1px 3px 1px rgba(0, 0, 0, 0.15);\n",
              "      filter: drop-shadow(0px 1px 2px rgba(0, 0, 0, 0.3));\n",
              "      fill: #FFFFFF;\n",
              "    }\n",
              "  </style>\n",
              "\n",
              "      <script>\n",
              "        const buttonEl =\n",
              "          document.querySelector('#df-e7959c5a-2449-481e-9c9a-5ed6af24751c button.colab-df-convert');\n",
              "        buttonEl.style.display =\n",
              "          google.colab.kernel.accessAllowed ? 'block' : 'none';\n",
              "\n",
              "        async function convertToInteractive(key) {\n",
              "          const element = document.querySelector('#df-e7959c5a-2449-481e-9c9a-5ed6af24751c');\n",
              "          const dataTable =\n",
              "            await google.colab.kernel.invokeFunction('convertToInteractive',\n",
              "                                                     [key], {});\n",
              "          if (!dataTable) return;\n",
              "\n",
              "          const docLinkHtml = 'Like what you see? Visit the ' +\n",
              "            '<a target=\"_blank\" href=https://colab.research.google.com/notebooks/data_table.ipynb>data table notebook</a>'\n",
              "            + ' to learn more about interactive tables.';\n",
              "          element.innerHTML = '';\n",
              "          dataTable['output_type'] = 'display_data';\n",
              "          await google.colab.output.renderOutput(dataTable, element);\n",
              "          const docLink = document.createElement('div');\n",
              "          docLink.innerHTML = docLinkHtml;\n",
              "          element.appendChild(docLink);\n",
              "        }\n",
              "      </script>\n",
              "    </div>\n",
              "  </div>\n",
              "  "
            ]
          },
          "metadata": {},
          "execution_count": 156
        }
      ]
    },
    {
      "cell_type": "code",
      "source": [
        "df1 = results.groupby(by = \"Model\").mean().sort_values(by='RMSE',ascending=True)\n",
        "df1"
      ],
      "metadata": {
        "colab": {
          "base_uri": "https://localhost:8080/",
          "height": 238
        },
        "id": "2BYguPCBNUV5",
        "outputId": "635416ee-1866-4753-d7d2-a2c4bfe1e8ba"
      },
      "execution_count": 197,
      "outputs": [
        {
          "output_type": "execute_result",
          "data": {
            "text/plain": [
              "                  MAE       RMSE   R2_score\n",
              "Model                                      \n",
              "RNN          0.910410   1.448656   0.965068\n",
              "LSTM         1.457465   2.176693   0.921135\n",
              "CNN          3.830394   4.876126   0.604233\n",
              "Prophet     20.185541  21.461776  -6.666917\n",
              "Auto ARIMA  24.082796  26.656890 -10.827921"
            ],
            "text/html": [
              "\n",
              "  <div id=\"df-b579d2d4-c954-4341-b4a1-dc888d23b317\">\n",
              "    <div class=\"colab-df-container\">\n",
              "      <div>\n",
              "<style scoped>\n",
              "    .dataframe tbody tr th:only-of-type {\n",
              "        vertical-align: middle;\n",
              "    }\n",
              "\n",
              "    .dataframe tbody tr th {\n",
              "        vertical-align: top;\n",
              "    }\n",
              "\n",
              "    .dataframe thead th {\n",
              "        text-align: right;\n",
              "    }\n",
              "</style>\n",
              "<table border=\"1\" class=\"dataframe\">\n",
              "  <thead>\n",
              "    <tr style=\"text-align: right;\">\n",
              "      <th></th>\n",
              "      <th>MAE</th>\n",
              "      <th>RMSE</th>\n",
              "      <th>R2_score</th>\n",
              "    </tr>\n",
              "    <tr>\n",
              "      <th>Model</th>\n",
              "      <th></th>\n",
              "      <th></th>\n",
              "      <th></th>\n",
              "    </tr>\n",
              "  </thead>\n",
              "  <tbody>\n",
              "    <tr>\n",
              "      <th>RNN</th>\n",
              "      <td>0.910410</td>\n",
              "      <td>1.448656</td>\n",
              "      <td>0.965068</td>\n",
              "    </tr>\n",
              "    <tr>\n",
              "      <th>LSTM</th>\n",
              "      <td>1.457465</td>\n",
              "      <td>2.176693</td>\n",
              "      <td>0.921135</td>\n",
              "    </tr>\n",
              "    <tr>\n",
              "      <th>CNN</th>\n",
              "      <td>3.830394</td>\n",
              "      <td>4.876126</td>\n",
              "      <td>0.604233</td>\n",
              "    </tr>\n",
              "    <tr>\n",
              "      <th>Prophet</th>\n",
              "      <td>20.185541</td>\n",
              "      <td>21.461776</td>\n",
              "      <td>-6.666917</td>\n",
              "    </tr>\n",
              "    <tr>\n",
              "      <th>Auto ARIMA</th>\n",
              "      <td>24.082796</td>\n",
              "      <td>26.656890</td>\n",
              "      <td>-10.827921</td>\n",
              "    </tr>\n",
              "  </tbody>\n",
              "</table>\n",
              "</div>\n",
              "      <button class=\"colab-df-convert\" onclick=\"convertToInteractive('df-b579d2d4-c954-4341-b4a1-dc888d23b317')\"\n",
              "              title=\"Convert this dataframe to an interactive table.\"\n",
              "              style=\"display:none;\">\n",
              "        \n",
              "  <svg xmlns=\"http://www.w3.org/2000/svg\" height=\"24px\"viewBox=\"0 0 24 24\"\n",
              "       width=\"24px\">\n",
              "    <path d=\"M0 0h24v24H0V0z\" fill=\"none\"/>\n",
              "    <path d=\"M18.56 5.44l.94 2.06.94-2.06 2.06-.94-2.06-.94-.94-2.06-.94 2.06-2.06.94zm-11 1L8.5 8.5l.94-2.06 2.06-.94-2.06-.94L8.5 2.5l-.94 2.06-2.06.94zm10 10l.94 2.06.94-2.06 2.06-.94-2.06-.94-.94-2.06-.94 2.06-2.06.94z\"/><path d=\"M17.41 7.96l-1.37-1.37c-.4-.4-.92-.59-1.43-.59-.52 0-1.04.2-1.43.59L10.3 9.45l-7.72 7.72c-.78.78-.78 2.05 0 2.83L4 21.41c.39.39.9.59 1.41.59.51 0 1.02-.2 1.41-.59l7.78-7.78 2.81-2.81c.8-.78.8-2.07 0-2.86zM5.41 20L4 18.59l7.72-7.72 1.47 1.35L5.41 20z\"/>\n",
              "  </svg>\n",
              "      </button>\n",
              "      \n",
              "  <style>\n",
              "    .colab-df-container {\n",
              "      display:flex;\n",
              "      flex-wrap:wrap;\n",
              "      gap: 12px;\n",
              "    }\n",
              "\n",
              "    .colab-df-convert {\n",
              "      background-color: #E8F0FE;\n",
              "      border: none;\n",
              "      border-radius: 50%;\n",
              "      cursor: pointer;\n",
              "      display: none;\n",
              "      fill: #1967D2;\n",
              "      height: 32px;\n",
              "      padding: 0 0 0 0;\n",
              "      width: 32px;\n",
              "    }\n",
              "\n",
              "    .colab-df-convert:hover {\n",
              "      background-color: #E2EBFA;\n",
              "      box-shadow: 0px 1px 2px rgba(60, 64, 67, 0.3), 0px 1px 3px 1px rgba(60, 64, 67, 0.15);\n",
              "      fill: #174EA6;\n",
              "    }\n",
              "\n",
              "    [theme=dark] .colab-df-convert {\n",
              "      background-color: #3B4455;\n",
              "      fill: #D2E3FC;\n",
              "    }\n",
              "\n",
              "    [theme=dark] .colab-df-convert:hover {\n",
              "      background-color: #434B5C;\n",
              "      box-shadow: 0px 1px 3px 1px rgba(0, 0, 0, 0.15);\n",
              "      filter: drop-shadow(0px 1px 2px rgba(0, 0, 0, 0.3));\n",
              "      fill: #FFFFFF;\n",
              "    }\n",
              "  </style>\n",
              "\n",
              "      <script>\n",
              "        const buttonEl =\n",
              "          document.querySelector('#df-b579d2d4-c954-4341-b4a1-dc888d23b317 button.colab-df-convert');\n",
              "        buttonEl.style.display =\n",
              "          google.colab.kernel.accessAllowed ? 'block' : 'none';\n",
              "\n",
              "        async function convertToInteractive(key) {\n",
              "          const element = document.querySelector('#df-b579d2d4-c954-4341-b4a1-dc888d23b317');\n",
              "          const dataTable =\n",
              "            await google.colab.kernel.invokeFunction('convertToInteractive',\n",
              "                                                     [key], {});\n",
              "          if (!dataTable) return;\n",
              "\n",
              "          const docLinkHtml = 'Like what you see? Visit the ' +\n",
              "            '<a target=\"_blank\" href=https://colab.research.google.com/notebooks/data_table.ipynb>data table notebook</a>'\n",
              "            + ' to learn more about interactive tables.';\n",
              "          element.innerHTML = '';\n",
              "          dataTable['output_type'] = 'display_data';\n",
              "          await google.colab.output.renderOutput(dataTable, element);\n",
              "          const docLink = document.createElement('div');\n",
              "          docLink.innerHTML = docLinkHtml;\n",
              "          element.appendChild(docLink);\n",
              "        }\n",
              "      </script>\n",
              "    </div>\n",
              "  </div>\n",
              "  "
            ]
          },
          "metadata": {},
          "execution_count": 197
        }
      ]
    }
  ]
}